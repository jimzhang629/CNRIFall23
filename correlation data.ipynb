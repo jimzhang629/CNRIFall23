{
 "cells": [
  {
   "cell_type": "code",
   "execution_count": 4,
   "id": "b9c1b0a5",
   "metadata": {},
   "outputs": [
    {
     "name": "stdout",
     "output_type": "stream",
     "text": [
      "Requirement already satisfied: pandas in ./anaconda3/lib/python3.11/site-packages (1.5.3)\n",
      "Requirement already satisfied: python-dateutil>=2.8.1 in ./anaconda3/lib/python3.11/site-packages (from pandas) (2.8.2)\n",
      "Requirement already satisfied: pytz>=2020.1 in ./anaconda3/lib/python3.11/site-packages (from pandas) (2022.7)\n",
      "Requirement already satisfied: numpy>=1.21.0 in ./anaconda3/lib/python3.11/site-packages (from pandas) (1.24.3)\n",
      "Requirement already satisfied: six>=1.5 in ./anaconda3/lib/python3.11/site-packages (from python-dateutil>=2.8.1->pandas) (1.16.0)\n",
      "Note: you may need to restart the kernel to use updated packages.\n"
     ]
    }
   ],
   "source": [
    "pip install pandas "
   ]
  },
  {
   "cell_type": "code",
   "execution_count": 3,
   "id": "99a7cd19",
   "metadata": {
    "scrolled": true
   },
   "outputs": [
    {
     "data": {
      "text/html": [
       "<div>\n",
       "<style scoped>\n",
       "    .dataframe tbody tr th:only-of-type {\n",
       "        vertical-align: middle;\n",
       "    }\n",
       "\n",
       "    .dataframe tbody tr th {\n",
       "        vertical-align: top;\n",
       "    }\n",
       "\n",
       "    .dataframe thead th {\n",
       "        text-align: right;\n",
       "    }\n",
       "</style>\n",
       "<table border=\"1\" class=\"dataframe\">\n",
       "  <thead>\n",
       "    <tr style=\"text-align: right;\">\n",
       "      <th></th>\n",
       "      <th>subject_ID</th>\n",
       "      <th>age</th>\n",
       "      <th>WithinConn</th>\n",
       "      <th>BetweenConn</th>\n",
       "      <th>SystemSeg</th>\n",
       "      <th>FullyCued_DriftRate</th>\n",
       "      <th>FullyCued_Nondecision</th>\n",
       "      <th>PartialCued_DriftRate</th>\n",
       "      <th>PartialCued_Nondecision</th>\n",
       "    </tr>\n",
       "  </thead>\n",
       "  <tbody>\n",
       "    <tr>\n",
       "      <th>subject_ID</th>\n",
       "      <td>1.000000</td>\n",
       "      <td>0.938540</td>\n",
       "      <td>-0.407257</td>\n",
       "      <td>-0.523472</td>\n",
       "      <td>0.299347</td>\n",
       "      <td>-0.216187</td>\n",
       "      <td>0.448284</td>\n",
       "      <td>-0.199769</td>\n",
       "      <td>0.459850</td>\n",
       "    </tr>\n",
       "    <tr>\n",
       "      <th>age</th>\n",
       "      <td>0.938540</td>\n",
       "      <td>1.000000</td>\n",
       "      <td>-0.407779</td>\n",
       "      <td>-0.543795</td>\n",
       "      <td>0.323087</td>\n",
       "      <td>-0.239139</td>\n",
       "      <td>0.435477</td>\n",
       "      <td>-0.216050</td>\n",
       "      <td>0.443612</td>\n",
       "    </tr>\n",
       "    <tr>\n",
       "      <th>WithinConn</th>\n",
       "      <td>-0.407257</td>\n",
       "      <td>-0.407779</td>\n",
       "      <td>1.000000</td>\n",
       "      <td>0.617005</td>\n",
       "      <td>0.121375</td>\n",
       "      <td>0.088155</td>\n",
       "      <td>-0.324363</td>\n",
       "      <td>0.185919</td>\n",
       "      <td>-0.317383</td>\n",
       "    </tr>\n",
       "    <tr>\n",
       "      <th>BetweenConn</th>\n",
       "      <td>-0.523472</td>\n",
       "      <td>-0.543795</td>\n",
       "      <td>0.617005</td>\n",
       "      <td>1.000000</td>\n",
       "      <td>-0.705262</td>\n",
       "      <td>0.173424</td>\n",
       "      <td>-0.350560</td>\n",
       "      <td>0.292338</td>\n",
       "      <td>-0.307991</td>\n",
       "    </tr>\n",
       "    <tr>\n",
       "      <th>SystemSeg</th>\n",
       "      <td>0.299347</td>\n",
       "      <td>0.323087</td>\n",
       "      <td>0.121375</td>\n",
       "      <td>-0.705262</td>\n",
       "      <td>1.000000</td>\n",
       "      <td>-0.143800</td>\n",
       "      <td>0.155205</td>\n",
       "      <td>-0.208024</td>\n",
       "      <td>0.109168</td>\n",
       "    </tr>\n",
       "    <tr>\n",
       "      <th>FullyCued_DriftRate</th>\n",
       "      <td>-0.216187</td>\n",
       "      <td>-0.239139</td>\n",
       "      <td>0.088155</td>\n",
       "      <td>0.173424</td>\n",
       "      <td>-0.143800</td>\n",
       "      <td>1.000000</td>\n",
       "      <td>-0.275344</td>\n",
       "      <td>0.482149</td>\n",
       "      <td>-0.235037</td>\n",
       "    </tr>\n",
       "    <tr>\n",
       "      <th>FullyCued_Nondecision</th>\n",
       "      <td>0.448284</td>\n",
       "      <td>0.435477</td>\n",
       "      <td>-0.324363</td>\n",
       "      <td>-0.350560</td>\n",
       "      <td>0.155205</td>\n",
       "      <td>-0.275344</td>\n",
       "      <td>1.000000</td>\n",
       "      <td>-0.211597</td>\n",
       "      <td>0.895273</td>\n",
       "    </tr>\n",
       "    <tr>\n",
       "      <th>PartialCued_DriftRate</th>\n",
       "      <td>-0.199769</td>\n",
       "      <td>-0.216050</td>\n",
       "      <td>0.185919</td>\n",
       "      <td>0.292338</td>\n",
       "      <td>-0.208024</td>\n",
       "      <td>0.482149</td>\n",
       "      <td>-0.211597</td>\n",
       "      <td>1.000000</td>\n",
       "      <td>-0.135976</td>\n",
       "    </tr>\n",
       "    <tr>\n",
       "      <th>PartialCued_Nondecision</th>\n",
       "      <td>0.459850</td>\n",
       "      <td>0.443612</td>\n",
       "      <td>-0.317383</td>\n",
       "      <td>-0.307991</td>\n",
       "      <td>0.109168</td>\n",
       "      <td>-0.235037</td>\n",
       "      <td>0.895273</td>\n",
       "      <td>-0.135976</td>\n",
       "      <td>1.000000</td>\n",
       "    </tr>\n",
       "  </tbody>\n",
       "</table>\n",
       "</div>"
      ],
      "text/plain": [
       "                         subject_ID       age  WithinConn  BetweenConn  \\\n",
       "subject_ID                 1.000000  0.938540   -0.407257    -0.523472   \n",
       "age                        0.938540  1.000000   -0.407779    -0.543795   \n",
       "WithinConn                -0.407257 -0.407779    1.000000     0.617005   \n",
       "BetweenConn               -0.523472 -0.543795    0.617005     1.000000   \n",
       "SystemSeg                  0.299347  0.323087    0.121375    -0.705262   \n",
       "FullyCued_DriftRate       -0.216187 -0.239139    0.088155     0.173424   \n",
       "FullyCued_Nondecision      0.448284  0.435477   -0.324363    -0.350560   \n",
       "PartialCued_DriftRate     -0.199769 -0.216050    0.185919     0.292338   \n",
       "PartialCued_Nondecision    0.459850  0.443612   -0.317383    -0.307991   \n",
       "\n",
       "                         SystemSeg  FullyCued_DriftRate  \\\n",
       "subject_ID                0.299347            -0.216187   \n",
       "age                       0.323087            -0.239139   \n",
       "WithinConn                0.121375             0.088155   \n",
       "BetweenConn              -0.705262             0.173424   \n",
       "SystemSeg                 1.000000            -0.143800   \n",
       "FullyCued_DriftRate      -0.143800             1.000000   \n",
       "FullyCued_Nondecision     0.155205            -0.275344   \n",
       "PartialCued_DriftRate    -0.208024             0.482149   \n",
       "PartialCued_Nondecision   0.109168            -0.235037   \n",
       "\n",
       "                         FullyCued_Nondecision  PartialCued_DriftRate  \\\n",
       "subject_ID                            0.448284              -0.199769   \n",
       "age                                   0.435477              -0.216050   \n",
       "WithinConn                           -0.324363               0.185919   \n",
       "BetweenConn                          -0.350560               0.292338   \n",
       "SystemSeg                             0.155205              -0.208024   \n",
       "FullyCued_DriftRate                  -0.275344               0.482149   \n",
       "FullyCued_Nondecision                 1.000000              -0.211597   \n",
       "PartialCued_DriftRate                -0.211597               1.000000   \n",
       "PartialCued_Nondecision               0.895273              -0.135976   \n",
       "\n",
       "                         PartialCued_Nondecision  \n",
       "subject_ID                              0.459850  \n",
       "age                                     0.443612  \n",
       "WithinConn                             -0.317383  \n",
       "BetweenConn                            -0.307991  \n",
       "SystemSeg                               0.109168  \n",
       "FullyCued_DriftRate                    -0.235037  \n",
       "FullyCued_Nondecision                   0.895273  \n",
       "PartialCued_DriftRate                  -0.135976  \n",
       "PartialCued_Nondecision                 1.000000  "
      ]
     },
     "execution_count": 3,
     "metadata": {},
     "output_type": "execute_result"
    }
   ],
   "source": [
    "import pandas as pd\n",
    "import numpy as np \n",
    "data = pd.read_excel ('/Users/jalenfaison/Downloads/VisAtten.05_CNRI (3).xlsx')\n",
    "df = pd.DataFrame(data)\n",
    "df.corr()"
   ]
  },
  {
   "cell_type": "code",
   "execution_count": 4,
   "id": "3b034ccc",
   "metadata": {},
   "outputs": [
    {
     "data": {
      "text/html": [
       "<div>\n",
       "<style scoped>\n",
       "    .dataframe tbody tr th:only-of-type {\n",
       "        vertical-align: middle;\n",
       "    }\n",
       "\n",
       "    .dataframe tbody tr th {\n",
       "        vertical-align: top;\n",
       "    }\n",
       "\n",
       "    .dataframe thead th {\n",
       "        text-align: right;\n",
       "    }\n",
       "</style>\n",
       "<table border=\"1\" class=\"dataframe\">\n",
       "  <thead>\n",
       "    <tr style=\"text-align: right;\">\n",
       "      <th></th>\n",
       "      <th>subject_ID</th>\n",
       "      <th>age</th>\n",
       "      <th>WithinConn</th>\n",
       "      <th>BetweenConn</th>\n",
       "      <th>SystemSeg</th>\n",
       "      <th>FullyCued_DriftRate</th>\n",
       "      <th>FullyCued_Nondecision</th>\n",
       "      <th>PartialCued_DriftRate</th>\n",
       "      <th>PartialCued_Nondecision</th>\n",
       "    </tr>\n",
       "  </thead>\n",
       "  <tbody>\n",
       "    <tr>\n",
       "      <th>0</th>\n",
       "      <td>10001</td>\n",
       "      <td>25</td>\n",
       "      <td>NaN</td>\n",
       "      <td>NaN</td>\n",
       "      <td>0.822870</td>\n",
       "      <td>0.185716</td>\n",
       "      <td>0.602452</td>\n",
       "      <td>0.304984</td>\n",
       "      <td>0.490625</td>\n",
       "    </tr>\n",
       "    <tr>\n",
       "      <th>1</th>\n",
       "      <td>10004</td>\n",
       "      <td>26</td>\n",
       "      <td>NaN</td>\n",
       "      <td>NaN</td>\n",
       "      <td>0.815698</td>\n",
       "      <td>0.241115</td>\n",
       "      <td>0.414481</td>\n",
       "      <td>0.269228</td>\n",
       "      <td>0.495891</td>\n",
       "    </tr>\n",
       "    <tr>\n",
       "      <th>2</th>\n",
       "      <td>10005</td>\n",
       "      <td>24</td>\n",
       "      <td>NaN</td>\n",
       "      <td>NaN</td>\n",
       "      <td>0.818178</td>\n",
       "      <td>0.297749</td>\n",
       "      <td>0.422886</td>\n",
       "      <td>0.356092</td>\n",
       "      <td>0.463052</td>\n",
       "    </tr>\n",
       "    <tr>\n",
       "      <th>3</th>\n",
       "      <td>10008</td>\n",
       "      <td>26</td>\n",
       "      <td>NaN</td>\n",
       "      <td>NaN</td>\n",
       "      <td>0.826351</td>\n",
       "      <td>0.244287</td>\n",
       "      <td>0.661728</td>\n",
       "      <td>0.256565</td>\n",
       "      <td>0.597101</td>\n",
       "    </tr>\n",
       "    <tr>\n",
       "      <th>4</th>\n",
       "      <td>10009</td>\n",
       "      <td>22</td>\n",
       "      <td>NaN</td>\n",
       "      <td>NaN</td>\n",
       "      <td>0.819954</td>\n",
       "      <td>0.181743</td>\n",
       "      <td>0.491066</td>\n",
       "      <td>0.250605</td>\n",
       "      <td>0.497143</td>\n",
       "    </tr>\n",
       "    <tr>\n",
       "      <th>...</th>\n",
       "      <td>...</td>\n",
       "      <td>...</td>\n",
       "      <td>...</td>\n",
       "      <td>...</td>\n",
       "      <td>...</td>\n",
       "      <td>...</td>\n",
       "      <td>...</td>\n",
       "      <td>...</td>\n",
       "      <td>...</td>\n",
       "    </tr>\n",
       "    <tr>\n",
       "      <th>60</th>\n",
       "      <td>12034</td>\n",
       "      <td>70</td>\n",
       "      <td>NaN</td>\n",
       "      <td>NaN</td>\n",
       "      <td>0.819642</td>\n",
       "      <td>0.316212</td>\n",
       "      <td>0.760289</td>\n",
       "      <td>0.280642</td>\n",
       "      <td>0.688771</td>\n",
       "    </tr>\n",
       "    <tr>\n",
       "      <th>61</th>\n",
       "      <td>12035</td>\n",
       "      <td>80</td>\n",
       "      <td>NaN</td>\n",
       "      <td>NaN</td>\n",
       "      <td>0.833211</td>\n",
       "      <td>0.209033</td>\n",
       "      <td>0.648553</td>\n",
       "      <td>0.212436</td>\n",
       "      <td>0.721406</td>\n",
       "    </tr>\n",
       "    <tr>\n",
       "      <th>62</th>\n",
       "      <td>12037</td>\n",
       "      <td>72</td>\n",
       "      <td>NaN</td>\n",
       "      <td>NaN</td>\n",
       "      <td>0.824881</td>\n",
       "      <td>0.208442</td>\n",
       "      <td>0.956154</td>\n",
       "      <td>0.247380</td>\n",
       "      <td>0.995770</td>\n",
       "    </tr>\n",
       "    <tr>\n",
       "      <th>63</th>\n",
       "      <td>12045</td>\n",
       "      <td>63</td>\n",
       "      <td>NaN</td>\n",
       "      <td>NaN</td>\n",
       "      <td>0.822324</td>\n",
       "      <td>0.202934</td>\n",
       "      <td>0.808461</td>\n",
       "      <td>0.248190</td>\n",
       "      <td>0.837000</td>\n",
       "    </tr>\n",
       "    <tr>\n",
       "      <th>64</th>\n",
       "      <td>12046</td>\n",
       "      <td>63</td>\n",
       "      <td>NaN</td>\n",
       "      <td>NaN</td>\n",
       "      <td>0.837876</td>\n",
       "      <td>0.192299</td>\n",
       "      <td>0.829331</td>\n",
       "      <td>0.254355</td>\n",
       "      <td>0.696155</td>\n",
       "    </tr>\n",
       "  </tbody>\n",
       "</table>\n",
       "<p>65 rows × 9 columns</p>\n",
       "</div>"
      ],
      "text/plain": [
       "    subject_ID  age  WithinConn  BetweenConn  SystemSeg  FullyCued_DriftRate  \\\n",
       "0        10001   25         NaN          NaN   0.822870             0.185716   \n",
       "1        10004   26         NaN          NaN   0.815698             0.241115   \n",
       "2        10005   24         NaN          NaN   0.818178             0.297749   \n",
       "3        10008   26         NaN          NaN   0.826351             0.244287   \n",
       "4        10009   22         NaN          NaN   0.819954             0.181743   \n",
       "..         ...  ...         ...          ...        ...                  ...   \n",
       "60       12034   70         NaN          NaN   0.819642             0.316212   \n",
       "61       12035   80         NaN          NaN   0.833211             0.209033   \n",
       "62       12037   72         NaN          NaN   0.824881             0.208442   \n",
       "63       12045   63         NaN          NaN   0.822324             0.202934   \n",
       "64       12046   63         NaN          NaN   0.837876             0.192299   \n",
       "\n",
       "    FullyCued_Nondecision  PartialCued_DriftRate  PartialCued_Nondecision  \n",
       "0                0.602452               0.304984                 0.490625  \n",
       "1                0.414481               0.269228                 0.495891  \n",
       "2                0.422886               0.356092                 0.463052  \n",
       "3                0.661728               0.256565                 0.597101  \n",
       "4                0.491066               0.250605                 0.497143  \n",
       "..                    ...                    ...                      ...  \n",
       "60               0.760289               0.280642                 0.688771  \n",
       "61               0.648553               0.212436                 0.721406  \n",
       "62               0.956154               0.247380                 0.995770  \n",
       "63               0.808461               0.248190                 0.837000  \n",
       "64               0.829331               0.254355                 0.696155  \n",
       "\n",
       "[65 rows x 9 columns]"
      ]
     },
     "execution_count": 4,
     "metadata": {},
     "output_type": "execute_result"
    }
   ],
   "source": [
    "import pandas as pd\n",
    "import numpy as np\n",
    "data2 = pd.read_excel ('/Users/jalenfaison/Downloads/VisAtten.05_CNRI (3).xlsx')\n",
    "df2 = pd.DataFrame(data2)\n",
    "df2.corr()\n",
    "df2[df2 > 0.05]"
   ]
  },
  {
   "cell_type": "code",
   "execution_count": 7,
   "id": "4fcb778b",
   "metadata": {},
   "outputs": [
    {
     "name": "stdout",
     "output_type": "stream",
     "text": [
      "-0.4077792728579609 -0.5437946859337677\n"
     ]
    }
   ],
   "source": [
    "import pandas as pd\n",
    "import numpy as np \n",
    "data = pd.read_excel ('/Users/jalenfaison/Downloads/VisAtten.05_CNRI (3).xlsx')\n",
    "df = pd.DataFrame(data)\n",
    "x = df.age.corr(df.WithinConn)\n",
    "y = df.age.corr(df.BetweenConn)\n",
    "print (x, y)"
   ]
  },
  {
   "cell_type": "code",
   "execution_count": 8,
   "id": "d7afbfd9",
   "metadata": {},
   "outputs": [
    {
     "name": "stdout",
     "output_type": "stream",
     "text": [
      "-0.40778 0.00075\n",
      "-0.54379 0.0\n"
     ]
    }
   ],
   "source": [
    "from scipy import stats \n",
    "import pandas as pd \n",
    "import numpy as np \n",
    "\n",
    "r, p = stats.pearsonr(df.age, df.WithinConn)\n",
    "r2, p2 = stats.pearsonr(df.age, df.BetweenConn)\n",
    "print (round(r,5), round(p,5))\n",
    "print (round(r2, 5), round(p2,5))"
   ]
  },
  {
   "cell_type": "code",
   "execution_count": 21,
   "id": "52ded9f4",
   "metadata": {},
   "outputs": [
    {
     "name": "stdout",
     "output_type": "stream",
     "text": [
      "                               r        p\n",
      "WithinConn              -0.40778  0.00075\n",
      "BetweenConn             -0.54379  0.00000\n",
      "SystemSeg                0.32309  0.00866\n",
      "FullyCued_DriftRate     -0.23914  0.05504\n",
      "FullyCued_Nondecision    0.43548  0.00029\n",
      "PartialCued_DriftRate   -0.21605  0.08389\n",
      "PartialCued_Nondecision  0.44361  0.00021\n",
      "\n",
      "TtestResult(statistic=-5.678555158223024, pvalue=3.563676330943251e-07, df=64)\n",
      "TtestResult(statistic=2.767346177431814, pvalue=0.007381053441141448, df=64)\n"
     ]
    }
   ],
   "source": [
    "from scipy import stats\n",
    "import matplotlib.pyplot as plt\n",
    "\n",
    "corr_df = pd.DataFrame(columns =['r','p'])\n",
    "for col in df:\n",
    "        if pd.api.types.is_numeric_dtype(df[col]) and col != 'age' and col != 'subject_ID':\n",
    "            r, p = stats.pearsonr(df.age, df[col])\n",
    "            corr_df.loc[col] = [round (r, 5), round(p, 5)]\n",
    "            \n",
    "print (corr_df)\n",
    "print ('')\n",
    "\n",
    "tResult1 = stats.ttest_rel(df.FullyCued_DriftRate, df.PartialCued_DriftRate)\n",
    "tResult2 = stats.ttest_rel(df.FullyCued_Nondecision, df.PartialCued_Nondecision)\n",
    "\n",
    "#print (df.head())\n",
    "\n",
    "print (tResult1)\n",
    "print (tResult2)"
   ]
  },
  {
   "cell_type": "code",
   "execution_count": 3,
   "id": "7044019c",
   "metadata": {},
   "outputs": [
    {
     "data": {
      "text/plain": [
       "<Axes: xlabel='age', ylabel='FullyCued_DriftRate'>"
      ]
     },
     "execution_count": 3,
     "metadata": {},
     "output_type": "execute_result"
    },
    {
     "data": {
      "image/png": "[encoded data removed]",
      "text/plain": [
       "<Figure size 640x480 with 1 Axes>"
      ]
     },
     "metadata": {},
     "output_type": "display_data"
    }
   ],
   "source": [
    "import pandas as pd\n",
    "import matplotlib.pyplot as plt\n",
    "import seaborn as sns\n",
    "\n",
    "data = pd.read_excel ('/Users/jalenfaison/Downloads/VisAtten.05_CNRI (3).xlsx')\n",
    "sns.scatterplot(x= 'age', y= 'FullyCued_DriftRate', data = data)\n",
    "sns.scatterplot(x= 'age', y= 'PartialCued_DriftRate', data = data)"
   ]
  },
  {
   "cell_type": "code",
   "execution_count": 4,
   "id": "9e14e07a",
   "metadata": {},
   "outputs": [
    {
     "data": {
      "text/plain": [
       "<Axes: xlabel='age', ylabel='FullyCued_Nondecision'>"
      ]
     },
     "execution_count": 4,
     "metadata": {},
     "output_type": "execute_result"
    },
    {
     "data": {
      "image/png": "[encoded data removed]",
      "text/plain": [
       "<Figure size 640x480 with 1 Axes>"
      ]
     },
     "metadata": {},
     "output_type": "display_data"
    }
   ],
   "source": [
    "import pandas as pd\n",
    "import matplotlib.pyplot as plt\n",
    "import seaborn as sns\n",
    "\n",
    "data = pd.read_excel ('/Users/jalenfaison/Downloads/VisAtten.05_CNRI (3).xlsx')\n",
    "sns.scatterplot(x= 'age', y= 'FullyCued_Nondecision', data = data)\n",
    "sns.scatterplot(x= 'age', y= 'PartialCued_Nondecision', data = data)"
   ]
  },
  {
   "cell_type": "code",
   "execution_count": 5,
   "id": "a1ce84ec",
   "metadata": {},
   "outputs": [
    {
     "data": {
      "text/plain": [
       "<Axes: xlabel='WithinConn', ylabel='BetweenConn'>"
      ]
     },
     "execution_count": 5,
     "metadata": {},
     "output_type": "execute_result"
    },
    {
     "data": {
      "image/png": "[encoded data removed]",
      "text/plain": [
       "<Figure size 640x480 with 1 Axes>"
      ]
     },
     "metadata": {},
     "output_type": "display_data"
    }
   ],
   "source": [
    "import pandas as pd\n",
    "import matplotlib.pyplot as plt\n",
    "import seaborn as sns\n",
    "\n",
    "data = pd.read_excel ('/Users/jalenfaison/Downloads/VisAtten.05_CNRI (3).xlsx')\n",
    "sns.scatterplot(x= 'WithinConn', y= 'BetweenConn', data = data)"
   ]
  },
  {
   "cell_type": "code",
   "execution_count": 6,
   "id": "225a9b7b",
   "metadata": {},
   "outputs": [
    {
     "data": {
      "text/plain": [
       "<Axes: xlabel='age', ylabel='WithinConn'>"
      ]
     },
     "execution_count": 6,
     "metadata": {},
     "output_type": "execute_result"
    },
    {
     "data": {
      "image/png": "[encoded data removed]",
      "text/plain": [
       "<Figure size 640x480 with 1 Axes>"
      ]
     },
     "metadata": {},
     "output_type": "display_data"
    }
   ],
   "source": [
    "import pandas as pd\n",
    "import matplotlib.pyplot as plt\n",
    "import seaborn as sns\n",
    "\n",
    "data = pd.read_excel ('/Users/jalenfaison/Downloads/VisAtten.05_CNRI (3).xlsx')\n",
    "sns.scatterplot(x= 'age', y= 'WithinConn', data = data)\n",
    "sns.scatterplot(x= 'age', y= 'BetweenConn', data = data)"
   ]
  },
  {
   "cell_type": "code",
   "execution_count": 3,
   "id": "5eb1e3fd",
   "metadata": {},
   "outputs": [
    {
     "name": "stdout",
     "output_type": "stream",
     "text": [
      "x\n"
     ]
    }
   ],
   "source": [
    "import pandas as pd\n",
    "import matplotlib.pyplot as plt\n",
    "import seaborn as sns\n",
    "from pingouin import partial_corr\n",
    "\n",
    "print (\"x\")"
   ]
  },
  {
   "cell_type": "code",
   "execution_count": 6,
   "id": "296d0565",
   "metadata": {},
   "outputs": [
    {
     "data": {
      "text/html": [
       "<div>\n",
       "<style scoped>\n",
       "    .dataframe tbody tr th:only-of-type {\n",
       "        vertical-align: middle;\n",
       "    }\n",
       "\n",
       "    .dataframe tbody tr th {\n",
       "        vertical-align: top;\n",
       "    }\n",
       "\n",
       "    .dataframe thead th {\n",
       "        text-align: right;\n",
       "    }\n",
       "</style>\n",
       "<table border=\"1\" class=\"dataframe\">\n",
       "  <thead>\n",
       "    <tr style=\"text-align: right;\">\n",
       "      <th></th>\n",
       "      <th>n</th>\n",
       "      <th>r</th>\n",
       "      <th>CI95%</th>\n",
       "      <th>p-val</th>\n",
       "    </tr>\n",
       "  </thead>\n",
       "  <tbody>\n",
       "    <tr>\n",
       "      <th>pearson</th>\n",
       "      <td>65</td>\n",
       "      <td>-0.17858</td>\n",
       "      <td>[-0.41, 0.07]</td>\n",
       "      <td>0.157992</td>\n",
       "    </tr>\n",
       "  </tbody>\n",
       "</table>\n",
       "</div>"
      ],
      "text/plain": [
       "          n        r          CI95%     p-val\n",
       "pearson  65 -0.17858  [-0.41, 0.07]  0.157992"
      ]
     },
     "execution_count": 6,
     "metadata": {},
     "output_type": "execute_result"
    }
   ],
   "source": [
    "import pandas as pd\n",
    "import matplotlib.pyplot as plt\n",
    "import seaborn as sns\n",
    "from pingouin import partial_corr\n",
    "\n",
    "data = pd.read_excel('/Users/jalenfaison/Downloads/VisAtten.05_CNRI-2.xlsx')\n",
    "partial_corr(data = data, x ='FullyCued_Nondecision', y = 'WithinConn', covar = ['age'], method = 'pearson')"
   ]
  },
  {
   "cell_type": "code",
   "execution_count": 7,
   "id": "5b36fb47",
   "metadata": {},
   "outputs": [
    {
     "data": {
      "text/html": [
       "<div>\n",
       "<style scoped>\n",
       "    .dataframe tbody tr th:only-of-type {\n",
       "        vertical-align: middle;\n",
       "    }\n",
       "\n",
       "    .dataframe tbody tr th {\n",
       "        vertical-align: top;\n",
       "    }\n",
       "\n",
       "    .dataframe thead th {\n",
       "        text-align: right;\n",
       "    }\n",
       "</style>\n",
       "<table border=\"1\" class=\"dataframe\">\n",
       "  <thead>\n",
       "    <tr style=\"text-align: right;\">\n",
       "      <th></th>\n",
       "      <th>n</th>\n",
       "      <th>r</th>\n",
       "      <th>CI95%</th>\n",
       "      <th>p-val</th>\n",
       "    </tr>\n",
       "  </thead>\n",
       "  <tbody>\n",
       "    <tr>\n",
       "      <th>pearson</th>\n",
       "      <td>65</td>\n",
       "      <td>-0.15057</td>\n",
       "      <td>[-0.38, 0.1]</td>\n",
       "      <td>0.23499</td>\n",
       "    </tr>\n",
       "  </tbody>\n",
       "</table>\n",
       "</div>"
      ],
      "text/plain": [
       "          n        r         CI95%    p-val\n",
       "pearson  65 -0.15057  [-0.38, 0.1]  0.23499"
      ]
     },
     "execution_count": 7,
     "metadata": {},
     "output_type": "execute_result"
    }
   ],
   "source": [
    "import pandas as pd\n",
    "import matplotlib.pyplot as plt\n",
    "import seaborn as sns\n",
    "from pingouin import partial_corr\n",
    "\n",
    "partial_corr(data = data, x ='FullyCued_Nondecision', y = 'BetweenConn', covar = ['age'], method = 'pearson')"
   ]
  },
  {
   "cell_type": "code",
   "execution_count": null,
   "id": "a70be1c8",
   "metadata": {},
   "outputs": [],
   "source": []
  }
 ],
 "metadata": {
  "kernelspec": {
   "display_name": "Python 3 (ipykernel)",
   "language": "python",
   "name": "python3"
  },
  "language_info": {
   "codemirror_mode": {
    "name": "ipython",
    "version": 3
   },
   "file_extension": ".py",
   "mimetype": "text/x-python",
   "name": "python",
   "nbconvert_exporter": "python",
   "pygments_lexer": "ipython3",
   "version": "3.11.4"
  }
 },
 "nbformat": 4,
 "nbformat_minor": 5
}
